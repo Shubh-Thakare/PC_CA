{
 "cells": [
  {
   "cell_type": "markdown",
   "metadata": {},
   "source": [
    "# Exercise 1\n",
    "\n",
    "Write a simple, short program to calculate and print area of one of the\n",
    "biggest faces and volume of a rectangular cuboid with the dimensions\n",
    "given below: Length (l) = 30cm, \n",
    "Breadth (b) = 20cm,\n",
    "Height (h) = 15cm"
   ]
  },
  {
   "cell_type": "code",
   "execution_count": 5,
   "metadata": {},
   "outputs": [
    {
     "name": "stdout",
     "output_type": "stream",
     "text": [
      "Area of rectangular cuboid:  450\n",
      "volume of rectangular cuboid:  9000\n"
     ]
    }
   ],
   "source": [
    "l= 30 #length\n",
    "b= 20 #breadth\n",
    "h= 15 #height\n",
    "\n",
    "# area of one of the biggest faces\n",
    "area= l*h\n",
    "\n",
    "# volume of a rectangular cuboid\n",
    "volume= l*b*h\n",
    "\n",
    "print('Area of rectangular cuboid: ',area)\n",
    "print('volume of rectangular cuboid: ',volume)"
   ]
  },
  {
   "cell_type": "markdown",
   "metadata": {},
   "source": [
    "# Exercise 2\n",
    "Write a simple, short program to calculate and print area of one of the\n",
    "biggest faces and volume of a rectangular cuboid with the dimensions\n",
    "given below. Use functions and loops if required.\n",
    "Lengths (l) = [30cm, 40cm, 50cm],\n",
    "Breadth (b) = 20cm,\n",
    "Height (h) = 15cm"
   ]
  },
  {
   "cell_type": "code",
   "execution_count": 6,
   "metadata": {},
   "outputs": [
    {
     "name": "stdout",
     "output_type": "stream",
     "text": [
      "Area of rectangular cuboid with length 30 is:  450\n",
      "Area of rectangular cuboid with length 40 is:  600\n",
      "Area of rectangular cuboid with length 50 is:  750\n",
      "volume of rectangular cuboid with length 30 is:  9000\n",
      "volume of rectangular cuboid with length 40 is:  12000\n",
      "volume of rectangular cuboid with length 50 is:  15000\n"
     ]
    }
   ],
   "source": [
    "l= [30,40,50]\n",
    "b=20\n",
    "h=15\n",
    " # area of one of the biggest faces\n",
    "for i in range(len(l)):\n",
    "    area= l[i]*h\n",
    "    print(f'Area of rectangular cuboid with length {l[i]} is: ',area)\n",
    "    \n",
    "# volume of a rectangular cuboid\n",
    "for j in range(len(l)):\n",
    "    volume= l[j]*b*h\n",
    "    print(f'volume of rectangular cuboid with length {l[j]} is: ',volume)\n"
   ]
  },
  {
   "cell_type": "markdown",
   "metadata": {},
   "source": [
    "# Exercise-3\n",
    "## Unit Testing in Python\n",
    "\n",
    "Unit testing is a technique in which particular module is tested to check by developer himself whether there are any errors. The primary focus of unit testing is testing an individual unit of system to analyse, detect, and fix the errors.\n",
    "\n",
    "The developers are expected to write automated test scripts, which ensures that each and every section or a unit meets its design and behaves as expected. Though writing manual tests for your code is definitely a tedious and time-consuming task, Python's built-in unit testing framework has made life a lot easier. The unit test framework in Python is called unit test, which comes packaged with Python.\n",
    "Unit testing makes your code future proof since you anticipate the cases where your code could potentially fail or produce a bug. Though you cannot predict all of the cases, you still address most of them.\n",
    "\n",
    "\n",
    "## Profiling in Python\n",
    "\n",
    "Python provides many excellent modules to measure the statistics of a program. This makes us know where the program is spending too much time and what to do in order to optimize it. It is better to optimize the code in order to increase the efficiency of a program. So, perform some standard tests to ensure optimization and we can improve the program in order to increase the efficiency. \n",
    "Using Timers:\n",
    "Timers are easy to implement and they can be used anywhere at a program to measure the execution time. By using timers, we can get the exact time and we can improve the program where it takes too long. Time module provides the methods in order to profile a program.\n",
    "\n",
    "cProfile and profile provide deterministic profiling of Python programs. A profile is a set of statistics that describes how often and for how long various parts of the program executed. These statistics can be formatted into reports via the pstats module.\n",
    "1. The Python standard library provides two different implementations of the same profiling interface:\n",
    "cProfile is recommended for most users; it’s a C extension with reasonable overhead that makes it suitable for profiling long-running programs. Based on lsprof, contributed by Brett Rosen and Ted Czotter.\n",
    "2. profile, a pure Python module whose interface is imitated by cProfile, but which adds significant overhead to profiled programs. If you’re trying to extend the profiler in some way, the task might be easier with this module. \n"
   ]
  }
 ],
 "metadata": {
  "kernelspec": {
   "display_name": "Python 3",
   "language": "python",
   "name": "python3"
  },
  "language_info": {
   "codemirror_mode": {
    "name": "ipython",
    "version": 3
   },
   "file_extension": ".py",
   "mimetype": "text/x-python",
   "name": "python",
   "nbconvert_exporter": "python",
   "pygments_lexer": "ipython3",
   "version": "3.8.5"
  }
 },
 "nbformat": 4,
 "nbformat_minor": 4
}
