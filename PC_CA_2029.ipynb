{
 "cells": [
  {
   "cell_type": "markdown",
   "metadata": {},
   "source": [
    "# Exercise 1\n",
    "\n",
    "Write a simple, short program to calculate and print area of one of the\n",
    "biggest faces and volume of a rectangular cuboid with the dimensions\n",
    "given below: Length (l) = 30cm, \n",
    "Breadth (b) = 20cm,\n",
    "Height (h) = 15cm"
   ]
  },
  {
   "cell_type": "code",
   "execution_count": 5,
   "metadata": {},
   "outputs": [
    {
     "name": "stdout",
     "output_type": "stream",
     "text": [
      "Area of rectangular cuboid:  450\n",
      "volume of rectangular cuboid:  9000\n"
     ]
    }
   ],
   "source": [
    "l= 30 #length\n",
    "b= 20 #breadth\n",
    "h= 15 #height\n",
    "\n",
    "# area of one of the biggest faces\n",
    "area= l*h\n",
    "\n",
    "# volume of a rectangular cuboid\n",
    "volume= l*b*h\n",
    "\n",
    "print('Area of rectangular cuboid: ',area)\n",
    "print('volume of rectangular cuboid: ',volume)"
   ]
  },
  {
   "cell_type": "markdown",
   "metadata": {},
   "source": [
    "# Exercise 2\n",
    "Write a simple, short program to calculate and print area of one of the\n",
    "biggest faces and volume of a rectangular cuboid with the dimensions\n",
    "given below. Use functions and loops if required.\n",
    "Lengths (l) = [30cm, 40cm, 50cm],\n",
    "Breadth (b) = 20cm,\n",
    "Height (h) = 15cm"
   ]
  },
  {
   "cell_type": "code",
   "execution_count": 6,
   "metadata": {},
   "outputs": [
    {
     "name": "stdout",
     "output_type": "stream",
     "text": [
      "Area of rectangular cuboid with length 30 is:  450\n",
      "Area of rectangular cuboid with length 40 is:  600\n",
      "Area of rectangular cuboid with length 50 is:  750\n",
      "volume of rectangular cuboid with length 30 is:  9000\n",
      "volume of rectangular cuboid with length 40 is:  12000\n",
      "volume of rectangular cuboid with length 50 is:  15000\n"
     ]
    }
   ],
   "source": [
    "l= [30,40,50]\n",
    "b=20\n",
    "h=15\n",
    " # area of one of the biggest faces\n",
    "for i in range(len(l)):\n",
    "    area= l[i]*h\n",
    "    print(f'Area of rectangular cuboid with length {l[i]} is: ',area)\n",
    "    \n",
    "# volume of a rectangular cuboid\n",
    "for j in range(len(l)):\n",
    "    volume= l[j]*b*h\n",
    "    print(f'volume of rectangular cuboid with length {l[j]} is: ',volume)\n"
   ]
  }
 ],
 "metadata": {
  "kernelspec": {
   "display_name": "Python 3",
   "language": "python",
   "name": "python3"
  },
  "language_info": {
   "codemirror_mode": {
    "name": "ipython",
    "version": 3
   },
   "file_extension": ".py",
   "mimetype": "text/x-python",
   "name": "python",
   "nbconvert_exporter": "python",
   "pygments_lexer": "ipython3",
   "version": "3.8.5"
  }
 },
 "nbformat": 4,
 "nbformat_minor": 4
}
